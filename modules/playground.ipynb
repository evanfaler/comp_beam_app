{
 "cells": [
  {
   "cell_type": "code",
   "execution_count": 1,
   "metadata": {},
   "outputs": [],
   "source": [
    "from modules.material import Concrete, Steel\n",
    "from modules.beam import CompositeSteelBeam\n",
    "from modules.load import UniformLoad\n",
    "from steelpy.steelpy import aisc\n",
    "\n",
    "\n",
    "test_beam = CompositeSteelBeam(\n",
    "    name='Composite Beam', \n",
    "    span=30, \n",
    "    shape=aisc.W_shapes.W16X26, \n",
    "    shored=False, \n",
    "    layout=(('Beam', 8.0), ('Beam', 8.0)), \n",
    "    studs={'fu': 65, 'dia': 0.75, 'length': 5.0, 'max_comp': 1.0, 'min_comp': 0.25}, \n",
    "    deck={'t_s': 3.5, 'deck_height': 3.0, 'orientation': 90}, \n",
    "    steel_material=Steel(\n",
    "        name='Steel', \n",
    "        poisson_ratio=0.3, \n",
    "        density=490, \n",
    "        E=29000, \n",
    "        G=11200, \n",
    "        fy=50, \n",
    "        fu=65), \n",
    "    concrete_material=Concrete(\n",
    "        name='Concrete', \n",
    "        poisson_ratio=0.2, \n",
    "        density=145, \n",
    "        fc=4.0, \n",
    "        fy=60, \n",
    "        fyt=60, \n",
    "        lw_mod_factor=1.0), \n",
    "    loads=[\n",
    "        UniformLoad(name='Uniform Dead Load', load_case='D', magnitude=0.5, start_loc=0, end_loc=30), \n",
    "        UniformLoad(name='Uniform Construction Dead Load', load_case='CD', magnitude=0.5, start_loc=0, end_loc=30), \n",
    "        UniformLoad(name='Uniform Live Load', load_case='L', magnitude=1.3, start_loc=0, end_loc=30), \n",
    "        UniformLoad(name='Uniform Construction Live Load', load_case='CL', magnitude=0.2, start_loc=0, end_loc=30)], \n",
    "    fea_beam=None)\n"
   ]
  },
  {
   "cell_type": "code",
   "execution_count": 2,
   "metadata": {},
   "outputs": [
    {
     "data": {
      "image/jpeg": "[encoded data removed]",
      "image/png": "[encoded data removed]",
      "text/plain": [
       "<PIL.Image.Image image mode=RGB size=500x300>"
      ]
     },
     "execution_count": 2,
     "metadata": {},
     "output_type": "execute_result"
    }
   ],
   "source": [
    "import render\n",
    "\n",
    "render.render_beam_section(test_beam)"
   ]
  },
  {
   "cell_type": "code",
   "execution_count": 3,
   "metadata": {},
   "outputs": [
    {
     "data": {
      "text/plain": [
       "1"
      ]
     },
     "execution_count": 3,
     "metadata": {},
     "output_type": "execute_result"
    }
   ],
   "source": [
    "min(1, 2)"
   ]
  },
  {
   "cell_type": "markdown",
   "metadata": {},
   "source": []
  },
  {
   "cell_type": "code",
   "execution_count": 4,
   "metadata": {},
   "outputs": [
    {
     "ename": "TypeError",
     "evalue": "UniformLoad.__init__() missing 5 required positional arguments: 'name', 'load_case', 'magnitude', 'start_loc', and 'end_loc'",
     "output_type": "error",
     "traceback": [
      "\u001b[1;31m---------------------------------------------------------------------------\u001b[0m",
      "\u001b[1;31mTypeError\u001b[0m                                 Traceback (most recent call last)",
      "Cell \u001b[1;32mIn[4], line 28\u001b[0m\n\u001b[0;32m     21\u001b[0m my_tuple \u001b[38;5;241m=\u001b[39m (\n\u001b[0;32m     22\u001b[0m     (\u001b[38;5;124m'\u001b[39m\u001b[38;5;124mEdge\u001b[39m\u001b[38;5;124m'\u001b[39m, \u001b[38;5;241m10.0\u001b[39m),\n\u001b[0;32m     23\u001b[0m     (\u001b[38;5;124m'\u001b[39m\u001b[38;5;124mBeam\u001b[39m\u001b[38;5;124m'\u001b[39m, \u001b[38;5;241m10.0\u001b[39m)\n\u001b[0;32m     24\u001b[0m )\n\u001b[0;32m     26\u001b[0m my_tuple\n\u001b[1;32m---> 28\u001b[0m my_udl \u001b[38;5;241m=\u001b[39m \u001b[43mUniformLoad\u001b[49m\u001b[43m(\u001b[49m\u001b[43m)\u001b[49m\n",
      "\u001b[1;31mTypeError\u001b[0m: UniformLoad.__init__() missing 5 required positional arguments: 'name', 'load_case', 'magnitude', 'start_loc', and 'end_loc'"
     ]
    }
   ],
   "source": [
    "from modules.material import Concrete, Steel\n",
    "from modules.beam import CompositeSteelBeam\n",
    "from modules.load import UniformLoad\n",
    "\n",
    "my_conc = Concrete(\n",
    "    name='My Conc', \n",
    "    poisson_ratio=0.2, \n",
    "    density=150,\n",
    "    fc=4\n",
    "    )\n",
    "\n",
    "my_steel = Steel(\n",
    "    name=\"My Steel\",\n",
    "    poisson_ratio=0.2,\n",
    "    density=500,\n",
    "    E=29000,\n",
    "    fy=50,\n",
    "    fu=65\n",
    ")\n",
    "\n",
    "my_tuple = (\n",
    "    ('Edge', 10.0),\n",
    "    ('Beam', 10.0)\n",
    ")\n",
    "\n",
    "my_tuple\n",
    "\n",
    "my_udl = UniformLoad()\n",
    "\n"
   ]
  },
  {
   "cell_type": "code",
   "execution_count": null,
   "metadata": {},
   "outputs": [
    {
     "name": "stdout",
     "output_type": "stream",
     "text": [
      "Edge\n"
     ]
    }
   ],
   "source": [
    "layout = (('Beam', 15.0),('Edge', 10.0))\n",
    "left_cond = layout[0][0]\n",
    "right_cond = layout[1][0]\n",
    "\n",
    "print(right_cond)"
   ]
  }
 ],
 "metadata": {
  "kernelspec": {
   "display_name": ".venv",
   "language": "python",
   "name": "python3"
  },
  "language_info": {
   "codemirror_mode": {
    "name": "ipython",
    "version": 3
   },
   "file_extension": ".py",
   "mimetype": "text/x-python",
   "name": "python",
   "nbconvert_exporter": "python",
   "pygments_lexer": "ipython3",
   "version": "3.12.0"
  }
 },
 "nbformat": 4,
 "nbformat_minor": 2
}
