{
 "cells": [
  {
   "cell_type": "code",
   "execution_count": 7,
   "metadata": {},
   "outputs": [
    {
     "data": {
      "text/plain": [
       "(('Edge', 10.0), ('Beam', 10.0))"
      ]
     },
     "execution_count": 7,
     "metadata": {},
     "output_type": "execute_result"
    }
   ],
   "source": [
    "from material import Concrete, Steel\n",
    "from beam import CompositeSteelBeam\n",
    "\n",
    "my_conc = Concrete(\n",
    "    name='My Conc', \n",
    "    poisson_ratio=0.2, \n",
    "    density=150,\n",
    "    fc=4\n",
    "    )\n",
    "\n",
    "my_steel = Steel(\n",
    "    name=\"My Steel\",\n",
    "    poisson_ratio=0.2,\n",
    "    density=500,\n",
    "    E=29000,\n",
    "    fy=50,\n",
    "    fu=65\n",
    ")\n",
    "\n",
    "my_tuple = (\n",
    "    ('Edge', 10.0),\n",
    "    ('Beam', 10.0)\n",
    ")\n",
    "\n",
    "my_tuple\n",
    "\n"
   ]
  }
 ],
 "metadata": {
  "kernelspec": {
   "display_name": ".venv",
   "language": "python",
   "name": "python3"
  },
  "language_info": {
   "codemirror_mode": {
    "name": "ipython",
    "version": 3
   },
   "file_extension": ".py",
   "mimetype": "text/x-python",
   "name": "python",
   "nbconvert_exporter": "python",
   "pygments_lexer": "ipython3",
   "version": "3.12.0"
  }
 },
 "nbformat": 4,
 "nbformat_minor": 2
}
