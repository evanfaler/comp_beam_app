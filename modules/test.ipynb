{
 "cells": [
  {
   "cell_type": "code",
   "execution_count": 7,
   "metadata": {},
   "outputs": [
    {
     "data": {
      "text/plain": [
       "(('Edge', 10.0), ('Beam', 10.0))"
      ]
     },
     "execution_count": 7,
     "metadata": {},
     "output_type": "execute_result"
    }
   ],
   "source": [
    "from modules.material import Concrete, Steel\n",
    "from modules.beam import CompositeSteelBeam\n",
    "from modules.load import UniformLoad\n",
    "\n",
    "my_conc = Concrete(\n",
    "    name='My Conc', \n",
    "    poisson_ratio=0.2, \n",
    "    density=150,\n",
    "    fc=4\n",
    "    )\n",
    "\n",
    "my_steel = Steel(\n",
    "    name=\"My Steel\",\n",
    "    poisson_ratio=0.2,\n",
    "    density=500,\n",
    "    E=29000,\n",
    "    fy=50,\n",
    "    fu=65\n",
    ")\n",
    "\n",
    "my_tuple = (\n",
    "    ('Edge', 10.0),\n",
    "    ('Beam', 10.0)\n",
    ")\n",
    "\n",
    "my_tuple\n",
    "\n",
    "my_udl = UniformLoad()\n",
    "\n"
   ]
  },
  {
   "cell_type": "code",
   "execution_count": 13,
   "metadata": {},
   "outputs": [
    {
     "name": "stdout",
     "output_type": "stream",
     "text": [
      "Edge\n"
     ]
    }
   ],
   "source": [
    "layout = (('Beam', 15.0),('Edge', 10.0))\n",
    "left_cond = layout[0][0]\n",
    "right_cond = layout[1][0]\n",
    "\n",
    "print(right_cond)"
   ]
  }
 ],
 "metadata": {
  "kernelspec": {
   "display_name": ".venv",
   "language": "python",
   "name": "python3"
  },
  "language_info": {
   "codemirror_mode": {
    "name": "ipython",
    "version": 3
   },
   "file_extension": ".py",
   "mimetype": "text/x-python",
   "name": "python",
   "nbconvert_exporter": "python",
   "pygments_lexer": "ipython3",
   "version": "3.12.0"
  }
 },
 "nbformat": 4,
 "nbformat_minor": 2
}
